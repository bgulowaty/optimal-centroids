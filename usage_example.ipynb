{
 "cells": [
  {
   "cell_type": "code",
   "execution_count": 1,
   "metadata": {
    "collapsed": false
   },
   "outputs": [],
   "source": []
  },
  {
   "cell_type": "code",
   "execution_count": 10,
   "metadata": {
    "collapsed": false
   },
   "outputs": [],
   "source": [
    "from multiprocessing.pool import ThreadPool\n",
    "from sklearn.metrics import accuracy_score\n",
    "from toolz import map\n",
    "\n",
    "import pandas as pd\n",
    "from pymoo.core.problem import StarmapParallelization\n",
    "from optimalcentroids.optimal_centroids import run\n"
   ]
  },
  {
   "cell_type": "code",
   "execution_count": null,
   "metadata": {
    "collapsed": false
   },
   "outputs": [],
   "source": [
    "%load_ext autoreload\n",
    "%autoreload 2\n"
   ]
  },
  {
   "cell_type": "code",
   "execution_count": 3,
   "metadata": {
    "collapsed": true
   },
   "outputs": [],
   "source": []
  },
  {
   "cell_type": "code",
   "execution_count": 4,
   "metadata": {
    "collapsed": false
   },
   "outputs": [],
   "source": [
    "train_data = pd.read_csv('breast-train-0-s1.csv')\n",
    "test_data = pd.read_csv('breast-test-0-s1.csv')\n",
    "x_train = train_data.drop('TARGET', axis=1).values\n",
    "y_train = train_data['TARGET'].values\n",
    "x_test = test_data.drop('TARGET', axis=1).values\n",
    "y_test = test_data['TARGET'].values"
   ]
  },
  {
   "cell_type": "code",
   "execution_count": 5,
   "metadata": {
    "collapsed": false
   },
   "outputs": [],
   "source": [
    "\n",
    "pool = ThreadPool(4)\n",
    "parallelization = StarmapParallelization(pool.starmap)"
   ]
  },
  {
   "cell_type": "code",
   "execution_count": 6,
   "metadata": {
    "collapsed": false
   },
   "outputs": [
    {
     "name": "stdout",
     "output_type": "stream",
     "text": [
      "=================================================\n",
      "n_gen  |  n_eval  |     f_avg     |     f_min    \n",
      "=================================================\n",
      "     1 |       10 |  0.3111594203 |  0.2652173913\n",
      "     2 |       20 |  0.3000000000 |  0.2652173913\n",
      "     3 |       30 |  0.2902898551 |  0.2652173913\n",
      "     4 |       40 |  0.2839130435 |  0.2637681159\n",
      "     5 |       50 |  0.2820289855 |  0.2637681159\n",
      "     6 |       60 |  0.2723188406 |  0.2637681159\n",
      "     7 |       70 |  0.2633333333 |  0.2434782609\n",
      "     8 |       80 |  0.2530434783 |  0.2434782609\n",
      "     9 |       90 |  0.2463768116 |  0.2434782609\n",
      "    10 |      100 |  0.2434782609 |  0.2434782609\n"
     ]
    }
   ],
   "source": [
    "results = run(x_train, y_train, 5, 5, 10, 10)"
   ]
  },
  {
   "cell_type": "code",
   "execution_count": 7,
   "metadata": {
    "collapsed": false
   },
   "outputs": [
    {
     "data": {
      "text/plain": [
       "[SimpleCompetenceRegionEnsemble(competence_region_classifier=Box({'predict': <function nn_wrapper.<locals>.<lambda> at 0x7f8d2e619630>}), clf_by_label={0: DecisionTreeClassifier(max_depth=3, random_state=42), 1: DecisionTreeClassifier(max_depth=3, random_state=42), 2: DecisionTreeClassifier(max_depth=3, random_state=42)})]"
      ]
     },
     "execution_count": 7,
     "metadata": {},
     "output_type": "execute_result"
    }
   ],
   "source": [
    "results"
   ]
  },
  {
   "cell_type": "code",
   "execution_count": 16,
   "metadata": {
    "collapsed": false
   },
   "outputs": [
    {
     "name": "stdout",
     "output_type": "stream",
     "text": [
      "#0 model: -- Size = 3, Depths: [3, 3, 3] Accuracy = 0.7410071942446043 --\n"
     ]
    }
   ],
   "source": [
    "for idx, model in enumerate(results):\n",
    "    print(f\"#{idx} model: -- Size = {len(model.clf_by_label)}, Depths: {[clf.max_depth for clf in model.clf_by_label.values()]} Accuracy = {accuracy_score(model.predict(x_test), y_test)} --\")"
   ]
  }
 ],
 "metadata": {
  "kernelspec": {
   "display_name": "Python 3",
   "language": "python",
   "name": "python3"
  },
  "language_info": {
   "codemirror_mode": {
    "name": "ipython",
    "version": 2
   },
   "file_extension": ".py",
   "mimetype": "text/x-python",
   "name": "python",
   "nbconvert_exporter": "python",
   "pygments_lexer": "ipython2",
   "version": "2.7.6"
  }
 },
 "nbformat": 4,
 "nbformat_minor": 0
}
